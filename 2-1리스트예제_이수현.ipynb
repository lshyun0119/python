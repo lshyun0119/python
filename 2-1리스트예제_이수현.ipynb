{
  "nbformat": 4,
  "nbformat_minor": 0,
  "metadata": {
    "colab": {
      "name": "이수현.ipynb",
      "version": "0.3.2",
      "provenance": [],
      "collapsed_sections": []
    },
    "kernelspec": {
      "name": "python3",
      "display_name": "Python 3"
    }
  },
  "cells": [
    {
      "cell_type": "markdown",
      "metadata": {
        "id": "D2U7_i9UBMa-",
        "colab_type": "text"
      },
      "source": [
        "### Q001. 빈 리스트인 list0을 만들어보자.\n",
        "### 출력까지 해보자."
      ]
    },
    {
      "cell_type": "code",
      "metadata": {
        "id": "AjeXBQWyBM-U",
        "colab_type": "code",
        "colab": {
          "base_uri": "https://localhost:8080/",
          "height": 34
        },
        "outputId": "ec7efb09-7da2-4aa2-c122-1e482c6df8fd"
      },
      "source": [
        "list0 = []\n",
        "print(list0)"
      ],
      "execution_count": 14,
      "outputs": [
        {
          "output_type": "stream",
          "text": [
            "[]\n"
          ],
          "name": "stdout"
        }
      ]
    },
    {
      "cell_type": "markdown",
      "metadata": {
        "id": "ri0GazzCBWMe",
        "colab_type": "text"
      },
      "source": [
        "### Q002.'희준', '강타' 를 넣어 HOT라는 리스트를 만들어보자.\n",
        "### 출력까지 해보자."
      ]
    },
    {
      "cell_type": "code",
      "metadata": {
        "id": "lvsQrLtiBWoM",
        "colab_type": "code",
        "colab": {
          "base_uri": "https://localhost:8080/",
          "height": 34
        },
        "outputId": "c1da50eb-f3f9-43b5-cb7f-70bfc7c8478f"
      },
      "source": [
        "HOT = []\n",
        "\n",
        "#HOT[0] = '희준'\n",
        "#HOT[1] = '강타'\n",
        "# 빈 배열에 바로 선언을 하게 되면 error가 뜬다.\n",
        "\n",
        "HOT.insert(0,'희준')\n",
        "HOT.append('강타')\n",
        "print(HOT)"
      ],
      "execution_count": 15,
      "outputs": [
        {
          "output_type": "stream",
          "text": [
            "['희준', '강타']\n"
          ],
          "name": "stdout"
        }
      ]
    },
    {
      "cell_type": "markdown",
      "metadata": {
        "id": "swTN2AkHDjSE",
        "colab_type": "text"
      },
      "source": [
        "### Q003. 1,2,3 이라는 값을 갖는 numbers 라는 리스트를 만들자.\n",
        "### 인덱스를 이용하여 값들을 각각 출력해보자.\n",
        "<pre>\n",
        "출력:\n",
        "1\n",
        "2\n",
        "3"
      ]
    },
    {
      "cell_type": "code",
      "metadata": {
        "id": "JsJRJ-rxEEZ1",
        "colab_type": "code",
        "colab": {
          "base_uri": "https://localhost:8080/",
          "height": 70
        },
        "outputId": "bb5682b9-1a17-4955-82a1-9e900da06ddd"
      },
      "source": [
        "numbers = [1, 2, 3]\n",
        "print(numbers.index(1))\n",
        "print(numbers.index(2))\n",
        "print(numbers.index(3))"
      ],
      "execution_count": 19,
      "outputs": [
        {
          "output_type": "stream",
          "text": [
            "0\n",
            "1\n",
            "2\n"
          ],
          "name": "stdout"
        }
      ]
    },
    {
      "cell_type": "markdown",
      "metadata": {
        "id": "ByAo7r96EEs0",
        "colab_type": "text"
      },
      "source": [
        "### Q004. 앞에서 만든 numbers 리스트에서 마이너스(-)인덱스를 이용해서 값 3을 출력해보자."
      ]
    },
    {
      "cell_type": "code",
      "metadata": {
        "id": "sgA5hvqfEUdU",
        "colab_type": "code",
        "colab": {
          "base_uri": "https://localhost:8080/",
          "height": 34
        },
        "outputId": "9b3f007f-6637-4ac2-fe3e-01f8b703e795"
      },
      "source": [
        "print(numbers[-1])"
      ],
      "execution_count": 20,
      "outputs": [
        {
          "output_type": "stream",
          "text": [
            "3\n"
          ],
          "name": "stdout"
        }
      ]
    },
    {
      "cell_type": "markdown",
      "metadata": {
        "id": "qNPVUfRgEV7-",
        "colab_type": "text"
      },
      "source": [
        "### Q005. 아래 리스트에서 인덱스를 이용해서 '여름', '겨울'을 각각 출력해 보세요."
      ]
    },
    {
      "cell_type": "code",
      "metadata": {
        "id": "7-_ivhXebqt1",
        "colab_type": "code",
        "colab": {
          "base_uri": "https://localhost:8080/",
          "height": 52
        },
        "outputId": "c5a99838-6a00-4f35-f2f5-bde45635b259"
      },
      "source": [
        "z = ['q', 1, ['여름', '겨울']]\n",
        "print(z[2][0])\n",
        "print(z[2][1])"
      ],
      "execution_count": 21,
      "outputs": [
        {
          "output_type": "stream",
          "text": [
            "여름\n",
            "겨울\n"
          ],
          "name": "stdout"
        }
      ]
    },
    {
      "cell_type": "markdown",
      "metadata": {
        "id": "tJEz4EQ_cMdm",
        "colab_type": "text"
      },
      "source": [
        "### Q006. 아래 리스트에서 2,3,4까지 슬라이스해서 출력해보세요."
      ]
    },
    {
      "cell_type": "code",
      "metadata": {
        "id": "6Rgnw1AUdyrw",
        "colab_type": "code",
        "colab": {
          "base_uri": "https://localhost:8080/",
          "height": 34
        },
        "outputId": "317a4039-a2df-4791-b9f5-19d33c9cd568"
      },
      "source": [
        "a = [1,2,3,4,5]\n",
        "print(a[1:4])"
      ],
      "execution_count": 23,
      "outputs": [
        {
          "output_type": "stream",
          "text": [
            "[2, 3, 4]\n"
          ],
          "name": "stdout"
        }
      ]
    },
    {
      "cell_type": "markdown",
      "metadata": {
        "id": "41bvfpKYfio-",
        "colab_type": "text"
      },
      "source": [
        "### Q007. 아래 리스트에서 홀수만 슬라이스 해서 출력해보세요."
      ]
    },
    {
      "cell_type": "code",
      "metadata": {
        "id": "lot_9IW2fxvy",
        "colab_type": "code",
        "colab": {
          "base_uri": "https://localhost:8080/",
          "height": 34
        },
        "outputId": "4d80e789-3dc8-4256-e784-386b00a7bfbf"
      },
      "source": [
        "w = [1,2,3,4,5,6,7,8,9]\n",
        "print(w[::2])"
      ],
      "execution_count": 24,
      "outputs": [
        {
          "output_type": "stream",
          "text": [
            "[1, 3, 5, 7, 9]\n"
          ],
          "name": "stdout"
        }
      ]
    },
    {
      "cell_type": "markdown",
      "metadata": {
        "id": "11xSbAfof-ye",
        "colab_type": "text"
      },
      "source": [
        "### Q008. 아래 리스트에서 짝수만 슬라이스 해서 출력해보세요."
      ]
    },
    {
      "cell_type": "code",
      "metadata": {
        "id": "CnHZPsLigbFn",
        "colab_type": "code",
        "colab": {
          "base_uri": "https://localhost:8080/",
          "height": 34
        },
        "outputId": "e4fe76f5-a4c7-4fe5-f285-37f2b64e7378"
      },
      "source": [
        "w = [1,2,3,4,5,6,7,8,9]\n",
        "print(w[1::2])"
      ],
      "execution_count": 25,
      "outputs": [
        {
          "output_type": "stream",
          "text": [
            "[2, 4, 6, 8]\n"
          ],
          "name": "stdout"
        }
      ]
    },
    {
      "cell_type": "markdown",
      "metadata": {
        "id": "n_t0w8hZggEv",
        "colab_type": "text"
      },
      "source": [
        "### Q009. 리스트 z와 리스트 q를 더해서 새로운 리스트 w를 만들어보세요.\n",
        "### 출력도 해보세요."
      ]
    },
    {
      "cell_type": "code",
      "metadata": {
        "id": "JAnMoWPQsiJv",
        "colab_type": "code",
        "colab": {
          "base_uri": "https://localhost:8080/",
          "height": 34
        },
        "outputId": "b223cd39-4f08-46a6-eba3-99732f6c8d89"
      },
      "source": [
        "z = [1, 2]\n",
        "q = [3, 4]\n",
        "w = z + q\n",
        "print(w)"
      ],
      "execution_count": 26,
      "outputs": [
        {
          "output_type": "stream",
          "text": [
            "[1, 2, 3, 4]\n"
          ],
          "name": "stdout"
        }
      ]
    },
    {
      "cell_type": "markdown",
      "metadata": {
        "id": "_ptJyWVVtc_Y",
        "colab_type": "text"
      },
      "source": [
        "### Q010. 리스트 z에 3을 곱하여 반복한 z2를 만들어보세요.\n",
        "### z2를 출력해보세요."
      ]
    },
    {
      "cell_type": "code",
      "metadata": {
        "id": "rPdWJ-3cvX04",
        "colab_type": "code",
        "colab": {
          "base_uri": "https://localhost:8080/",
          "height": 34
        },
        "outputId": "6451ae40-19f5-4549-9b3b-f9c7c6ff13a5"
      },
      "source": [
        "z = ['x', 'y']\n",
        "z2 = z * 3\n",
        "print(z2)"
      ],
      "execution_count": 28,
      "outputs": [
        {
          "output_type": "stream",
          "text": [
            "['x', 'y', 'x', 'y', 'x', 'y']\n"
          ],
          "name": "stdout"
        }
      ]
    },
    {
      "cell_type": "markdown",
      "metadata": {
        "id": "R_EZA2dUvYzw",
        "colab_type": "text"
      },
      "source": [
        "### Q011. 아래 리스트 z의 길이를 구하세요."
      ]
    },
    {
      "cell_type": "code",
      "metadata": {
        "id": "MbmBsZwlwR54",
        "colab_type": "code",
        "colab": {
          "base_uri": "https://localhost:8080/",
          "height": 34
        },
        "outputId": "97613cc6-c560-4a34-f5ef-949b3b79dbd4"
      },
      "source": [
        "z = [1,2,3,1,2,3,1,2,3,1,2,3,1,2,3,1,2,3,1,23]\n",
        "print(len(z))"
      ],
      "execution_count": 29,
      "outputs": [
        {
          "output_type": "stream",
          "text": [
            "20\n"
          ],
          "name": "stdout"
        }
      ]
    },
    {
      "cell_type": "markdown",
      "metadata": {
        "id": "GxyXd405w1DD",
        "colab_type": "text"
      },
      "source": [
        "### Q012.리스트 colors가 아래와 같이 주어질 때, 'yellow'를 추가하세요."
      ]
    },
    {
      "cell_type": "code",
      "metadata": {
        "id": "c7ywuRU9x_vD",
        "colab_type": "code",
        "colab": {
          "base_uri": "https://localhost:8080/",
          "height": 34
        },
        "outputId": "23c7164d-8676-4ff8-c39e-dbe734e48125"
      },
      "source": [
        "colors = ['red', 'blue', 'green']\n",
        "colors.append('yellow')\n",
        "print(colors)"
      ],
      "execution_count": 31,
      "outputs": [
        {
          "output_type": "stream",
          "text": [
            "['red', 'blue', 'green', 'yellow']\n"
          ],
          "name": "stdout"
        }
      ]
    },
    {
      "cell_type": "markdown",
      "metadata": {
        "id": "zwUEWDvCyQbJ",
        "colab_type": "text"
      },
      "source": [
        "### Q013. 리스트 colors가 아래와 같이 주어질 때, colors2에 있는 여러 값들을 colors에 추가하세요."
      ]
    },
    {
      "cell_type": "code",
      "metadata": {
        "id": "ECixB5mIym_A",
        "colab_type": "code",
        "colab": {
          "base_uri": "https://localhost:8080/",
          "height": 34
        },
        "outputId": "93e578c5-b6e2-4e7f-823d-4830ffae73d4"
      },
      "source": [
        "colors = ['red', 'blue', 'green', 'yellow']\n",
        "colors2 = ['black', 'gray']\n",
        "colors.extend(colors2)\n",
        "print(colors)"
      ],
      "execution_count": 32,
      "outputs": [
        {
          "output_type": "stream",
          "text": [
            "['red', 'blue', 'green', 'yellow', 'black', 'gray']\n"
          ],
          "name": "stdout"
        }
      ]
    },
    {
      "cell_type": "markdown",
      "metadata": {
        "id": "f2VJoiNuy34w",
        "colab_type": "text"
      },
      "source": [
        "### Q014. 리스트 a가 아래와 같을 때, 3번째 인덱스(순번)에 10을 넣으세요."
      ]
    },
    {
      "cell_type": "code",
      "metadata": {
        "id": "Bey3MxrYzK8W",
        "colab_type": "code",
        "colab": {
          "base_uri": "https://localhost:8080/",
          "height": 34
        },
        "outputId": "6a84e3be-a38b-4652-f65e-86b30cb81499"
      },
      "source": [
        "a = [1, 3, 4, 9, 8, 2]\n",
        "a.insert(3,10)\n",
        "print(a)"
      ],
      "execution_count": 33,
      "outputs": [
        {
          "output_type": "stream",
          "text": [
            "[1, 3, 4, 10, 9, 8, 2]\n"
          ],
          "name": "stdout"
        }
      ]
    },
    {
      "cell_type": "markdown",
      "metadata": {
        "id": "MX0Uggc0zTCR",
        "colab_type": "text"
      },
      "source": [
        "### Q015. 리스트 q가 아래와 같을 때, '철수' 를 제거하세요."
      ]
    },
    {
      "cell_type": "code",
      "metadata": {
        "id": "rUVQkqfKzeRO",
        "colab_type": "code",
        "colab": {
          "base_uri": "https://localhost:8080/",
          "height": 34
        },
        "outputId": "9be5197a-7a35-4b59-9811-4004cd6e516e"
      },
      "source": [
        "q = ['민희', '민지', '병호', '철수', '훈희']\n",
        "q.remove('철수')\n",
        "print(q)"
      ],
      "execution_count": 34,
      "outputs": [
        {
          "output_type": "stream",
          "text": [
            "['민희', '민지', '병호', '훈희']\n"
          ],
          "name": "stdout"
        }
      ]
    },
    {
      "cell_type": "markdown",
      "metadata": {
        "id": "epS4BGnWzk7E",
        "colab_type": "text"
      },
      "source": [
        "### Q016. 리스트 a가 아래와 같을 때, 값 1을 10으로 바꾸세요."
      ]
    },
    {
      "cell_type": "code",
      "metadata": {
        "id": "B0nLLdDiz17G",
        "colab_type": "code",
        "colab": {
          "base_uri": "https://localhost:8080/",
          "height": 34
        },
        "outputId": "ccda5e0b-bcc0-47cf-8699-babe5780547b"
      },
      "source": [
        "a = [2,3,1,7,9]\n",
        "a[2] = 10\n",
        "print(a)"
      ],
      "execution_count": 35,
      "outputs": [
        {
          "output_type": "stream",
          "text": [
            "[2, 3, 10, 7, 9]\n"
          ],
          "name": "stdout"
        }
      ]
    },
    {
      "cell_type": "markdown",
      "metadata": {
        "id": "vOKuvpwF0AxI",
        "colab_type": "text"
      },
      "source": [
        "### Q017. 리스트 list1 이 아래와 같을 때, 'fox'의 인덱스(순번)을 찾으세요."
      ]
    },
    {
      "cell_type": "code",
      "metadata": {
        "id": "Qn9Q-r2Q1VjO",
        "colab_type": "code",
        "colab": {
          "base_uri": "https://localhost:8080/",
          "height": 34
        },
        "outputId": "bf3b7e8e-d0bf-4c4f-958c-0f92e614309a"
      },
      "source": [
        "list1 = ['lion', 'tiger', 'dog', 'cat', 'fox', 'turtle']\n",
        "list1.index('fox')"
      ],
      "execution_count": 37,
      "outputs": [
        {
          "output_type": "execute_result",
          "data": {
            "text/plain": [
              "4"
            ]
          },
          "metadata": {
            "tags": []
          },
          "execution_count": 37
        }
      ]
    },
    {
      "cell_type": "markdown",
      "metadata": {
        "id": "K5RsWbtJ1ecy",
        "colab_type": "text"
      },
      "source": [
        "### Q018. 리스트 list2가 아래와 같을 때 7의 갯수를 출력하세요."
      ]
    },
    {
      "cell_type": "code",
      "metadata": {
        "id": "_k97ch4O2CGL",
        "colab_type": "code",
        "colab": {
          "base_uri": "https://localhost:8080/",
          "height": 34
        },
        "outputId": "b79d7f20-4ba5-4d33-c947-55cba889cb6f"
      },
      "source": [
        "list2 = [7,7,7,7,7,8,8,8,88,6,5,5,4,4,3,2,2,25,6,6,7,77,7,8,8,88,5,5,5,8,888,77,7]\n",
        "list2.count(7)"
      ],
      "execution_count": 39,
      "outputs": [
        {
          "output_type": "execute_result",
          "data": {
            "text/plain": [
              "8"
            ]
          },
          "metadata": {
            "tags": []
          },
          "execution_count": 39
        }
      ]
    }
  ]
}