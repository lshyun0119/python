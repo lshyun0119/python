{
  "nbformat": 4,
  "nbformat_minor": 0,
  "metadata": {
    "colab": {
      "name": "이수현.ipynb",
      "version": "0.3.2",
      "provenance": [],
      "collapsed_sections": []
    },
    "kernelspec": {
      "name": "python3",
      "display_name": "Python 3"
    }
  },
  "cells": [
    {
      "cell_type": "markdown",
      "metadata": {
        "id": "1I6mj-LbAMgF",
        "colab_type": "text"
      },
      "source": [
        "# 2.리스트\n",
        "여러개의 값을 담고 있는 변수."
      ]
    },
    {
      "cell_type": "markdown",
      "metadata": {
        "id": "QPfwUB3nAa1G",
        "colab_type": "text"
      },
      "source": [
        "## 2-1. 리스트 형식\n",
        "<pre>\n",
        "* 리스트 이름 = [값1, 값2, 값3,...]\n",
        "  리스트 이름 = []\n",
        "  \n",
        "\n",
        "* 리스트 이름으로 안되는 것들 : \n",
        "  - if, def, class, while, for, else 등의 예약어.\n",
        "  - 숫자로 시작하는 것\n",
        "  ex) 1a, 3name, ...\n",
        "  \n",
        "  \n",
        "* 리스트 특징\n",
        "  1. 순서가 존재\n",
        "  2. 값을 인덱스로 불러옴.\n",
        "  3. 값 수정 가능.\n",
        "\n",
        "\n"
      ]
    },
    {
      "cell_type": "code",
      "metadata": {
        "id": "g7m1y-kQCcjp",
        "colab_type": "code",
        "colab": {}
      },
      "source": [
        "a = [10, 20, 30]\n",
        "name = ['철수']"
      ],
      "execution_count": 0,
      "outputs": []
    },
    {
      "cell_type": "markdown",
      "metadata": {
        "id": "3w1D7a4uEAht",
        "colab_type": "text"
      },
      "source": [
        "## 2-2. 리스트 인덱스\n",
        "<pre>\n",
        "* 형식 :\n",
        "  리스트명[인덱스]\n",
        "\n",
        "\n",
        "* 사용법 :\n",
        "  첫 번째 값: [0]\n",
        "  두 번째 값: [1]\n",
        "  마지막 값 : [끝 인덱스] or [-1]"
      ]
    },
    {
      "cell_type": "code",
      "metadata": {
        "id": "RafT_WMEEPiQ",
        "colab_type": "code",
        "colab": {}
      },
      "source": [
        "a = [10, 20, 30]"
      ],
      "execution_count": 0,
      "outputs": []
    },
    {
      "cell_type": "code",
      "metadata": {
        "id": "Wb6y_Qb1IMIS",
        "colab_type": "code",
        "colab": {
          "base_uri": "https://localhost:8080/",
          "height": 87
        },
        "outputId": "b6efb52d-2f24-4a8f-e405-f7452d746a0b"
      },
      "source": [
        "print(a[0])\n",
        "print(a[1])\n",
        "print(a[2])\n",
        "print(a[-1])"
      ],
      "execution_count": 3,
      "outputs": [
        {
          "output_type": "stream",
          "text": [
            "10\n",
            "20\n",
            "30\n",
            "30\n"
          ],
          "name": "stdout"
        }
      ]
    },
    {
      "cell_type": "markdown",
      "metadata": {
        "id": "ETPEbbObI5zr",
        "colab_type": "text"
      },
      "source": [
        "### 리스트 내부 리스트의 인덱스"
      ]
    },
    {
      "cell_type": "code",
      "metadata": {
        "id": "H16z3JshIc0X",
        "colab_type": "code",
        "colab": {}
      },
      "source": [
        "z = [11, ['a', 'b']]"
      ],
      "execution_count": 0,
      "outputs": []
    },
    {
      "cell_type": "code",
      "metadata": {
        "id": "H0mplNBSJLhp",
        "colab_type": "code",
        "colab": {
          "base_uri": "https://localhost:8080/",
          "height": 87
        },
        "outputId": "e72f6221-076f-4a45-8d6b-27be2058f9a6"
      },
      "source": [
        "print(z[0])\n",
        "print(z[1])\n",
        "print(z[1][0])\n",
        "print(z[1][1])"
      ],
      "execution_count": 6,
      "outputs": [
        {
          "output_type": "stream",
          "text": [
            "11\n",
            "['a', 'b']\n",
            "a\n",
            "b\n"
          ],
          "name": "stdout"
        }
      ]
    },
    {
      "cell_type": "code",
      "metadata": {
        "id": "fk-1Jt-DKXQb",
        "colab_type": "code",
        "colab": {}
      },
      "source": [
        "a = [3, 7, ['수박', '참외',['사과', '딸기']]]"
      ],
      "execution_count": 0,
      "outputs": []
    },
    {
      "cell_type": "code",
      "metadata": {
        "id": "TSlHK0ykcbW4",
        "colab_type": "code",
        "colab": {
          "base_uri": "https://localhost:8080/",
          "height": 122
        },
        "outputId": "415a871b-52e3-411d-8d7c-2a2ab9d532e0"
      },
      "source": [
        "print(a[0])\n",
        "print(a[1])\n",
        "print(a[2][0])\n",
        "print(a[2][1])\n",
        "print(a[2][2][0])\n",
        "print(a[2][2][1])"
      ],
      "execution_count": 9,
      "outputs": [
        {
          "output_type": "stream",
          "text": [
            "3\n",
            "7\n",
            "수박\n",
            "참외\n",
            "사과\n",
            "딸기\n"
          ],
          "name": "stdout"
        }
      ]
    },
    {
      "cell_type": "markdown",
      "metadata": {
        "id": "1JS8VyCMKZKe",
        "colab_type": "text"
      },
      "source": [
        "## 2-3.리스트 슬라이스\n",
        "<pre>\n",
        "사용법 :\n",
        "\n",
        "리스트명[시작인덱스:원하는인덱스+1]"
      ]
    },
    {
      "cell_type": "code",
      "metadata": {
        "id": "nL7WdQ3VLsLK",
        "colab_type": "code",
        "colab": {}
      },
      "source": [
        "z=[1,2,3,4,5,6,7,8,9]"
      ],
      "execution_count": 0,
      "outputs": []
    },
    {
      "cell_type": "code",
      "metadata": {
        "id": "I2520GHKdxTn",
        "colab_type": "code",
        "colab": {
          "base_uri": "https://localhost:8080/",
          "height": 34
        },
        "outputId": "a2f8e219-a62d-4fc3-f3e6-1d9b416ad6e3"
      },
      "source": [
        "# 0번부터 1번 포함 슬라이스 하려면?\n",
        "print(z[0:2])"
      ],
      "execution_count": 12,
      "outputs": [
        {
          "output_type": "stream",
          "text": [
            "[1, 2]\n"
          ],
          "name": "stdout"
        }
      ]
    },
    {
      "cell_type": "code",
      "metadata": {
        "id": "yo7ijDEzeUQ2",
        "colab_type": "code",
        "colab": {
          "base_uri": "https://localhost:8080/",
          "height": 34
        },
        "outputId": "a2439f8a-2793-412c-9d04-026cb25063d5"
      },
      "source": [
        "# 시작인덱스가 0이라면 생략 가능\n",
        "print(z[:2])"
      ],
      "execution_count": 13,
      "outputs": [
        {
          "output_type": "stream",
          "text": [
            "[1, 2]\n"
          ],
          "name": "stdout"
        }
      ]
    },
    {
      "cell_type": "code",
      "metadata": {
        "id": "wysoIyDTMRAF",
        "colab_type": "code",
        "colab": {
          "base_uri": "https://localhost:8080/",
          "height": 34
        },
        "outputId": "16e77fa9-d6e4-4c15-9abc-2f6479ad8e22"
      },
      "source": [
        "# 2번부터 4번 포함 슬라이스 하려면?\n",
        "print(z[1:5])"
      ],
      "execution_count": 15,
      "outputs": [
        {
          "output_type": "stream",
          "text": [
            "[2, 3, 4, 5]\n"
          ],
          "name": "stdout"
        }
      ]
    },
    {
      "cell_type": "code",
      "metadata": {
        "id": "QcBaeL2hNM13",
        "colab_type": "code",
        "colab": {
          "base_uri": "https://localhost:8080/",
          "height": 34
        },
        "outputId": "2c47427d-cdea-4834-a6e2-b7534b29caab"
      },
      "source": [
        "# 마지막 인덱스까지 하려한다면 생략가능\n",
        "print(z[:])"
      ],
      "execution_count": 16,
      "outputs": [
        {
          "output_type": "stream",
          "text": [
            "[1, 2, 3, 4, 5, 6, 7, 8, 9]\n"
          ],
          "name": "stdout"
        }
      ]
    },
    {
      "cell_type": "markdown",
      "metadata": {
        "id": "yKCCD2IzhEYa",
        "colab_type": "text"
      },
      "source": [
        "### 슬라이스로 나타낸 리스트\n",
        "<pre>\n",
        "사용법 :\n",
        "리스트명[:] "
      ]
    },
    {
      "cell_type": "code",
      "metadata": {
        "id": "ywwTIPFORqMj",
        "colab_type": "code",
        "colab": {}
      },
      "source": [
        "z=[1,2,3,4,5,6,7,8,9]"
      ],
      "execution_count": 0,
      "outputs": []
    },
    {
      "cell_type": "code",
      "metadata": {
        "id": "gmVmjO4-hkYx",
        "colab_type": "code",
        "outputId": "acb1f4ed-623a-479a-fd84-a8aeeed724da",
        "colab": {
          "base_uri": "https://localhost:8080/",
          "height": 34
        }
      },
      "source": [
        "print(z[:])"
      ],
      "execution_count": 17,
      "outputs": [
        {
          "output_type": "stream",
          "text": [
            "[1, 2, 3, 4, 5, 6, 7, 8, 9]\n"
          ],
          "name": "stdout"
        }
      ]
    },
    {
      "cell_type": "code",
      "metadata": {
        "id": "1ppNQZVOiEJm",
        "colab_type": "code",
        "outputId": "7088bc0b-9c67-47a3-a7b5-3dec349ab7db",
        "colab": {
          "base_uri": "https://localhost:8080/",
          "height": 34
        }
      },
      "source": [
        "print(z[::])"
      ],
      "execution_count": 23,
      "outputs": [
        {
          "output_type": "stream",
          "text": [
            "[1, 2, 3, 4, 5, 6, 7, 8, 9]\n"
          ],
          "name": "stdout"
        }
      ]
    },
    {
      "cell_type": "markdown",
      "metadata": {
        "id": "htNRq2T0yYpe",
        "colab_type": "text"
      },
      "source": [
        "#### 슬라이스 증감폭 부여\n",
        "<pre>\n",
        "사용법:\n",
        "\n",
        "리스트명[::]\n",
        "\n",
        "리스트명[시작인덱스:원하는인덱스+1:증감폭]\n"
      ]
    },
    {
      "cell_type": "code",
      "metadata": {
        "id": "PLg9rZk3ysCG",
        "colab_type": "code",
        "colab": {}
      },
      "source": [
        "z=[1,2,3,4,5,6,7,8,9]"
      ],
      "execution_count": 0,
      "outputs": []
    },
    {
      "cell_type": "code",
      "metadata": {
        "id": "_Gl6i4wDgzuh",
        "colab_type": "code",
        "colab": {
          "base_uri": "https://localhost:8080/",
          "height": 34
        },
        "outputId": "05728ae4-d26e-4158-879c-fa34b5c7f698"
      },
      "source": [
        "# 증감폭 1 = 전체 다 가져오기\n",
        "print(z[::1])"
      ],
      "execution_count": 27,
      "outputs": [
        {
          "output_type": "stream",
          "text": [
            "[1, 2, 3, 4, 5, 6, 7, 8, 9]\n"
          ],
          "name": "stdout"
        }
      ]
    },
    {
      "cell_type": "code",
      "metadata": {
        "id": "KS1zQvA1jVyw",
        "colab_type": "code",
        "colab": {
          "base_uri": "https://localhost:8080/",
          "height": 34
        },
        "outputId": "28239276-9419-4377-e954-8e73692c10a1"
      },
      "source": [
        "# 같은 결과? 1생략되어 있음.\n",
        "print(z[::])"
      ],
      "execution_count": 28,
      "outputs": [
        {
          "output_type": "stream",
          "text": [
            "[1, 2, 3, 4, 5, 6, 7, 8, 9]\n"
          ],
          "name": "stdout"
        }
      ]
    },
    {
      "cell_type": "code",
      "metadata": {
        "id": "evLugoVzicet",
        "colab_type": "code",
        "colab": {
          "base_uri": "https://localhost:8080/",
          "height": 34
        },
        "outputId": "9365982e-dbf6-42ad-8997-1c860ca48538"
      },
      "source": [
        "# 한 개씩 건너 띄기\n",
        "print(z[::2])"
      ],
      "execution_count": 29,
      "outputs": [
        {
          "output_type": "stream",
          "text": [
            "[1, 3, 5, 7, 9]\n"
          ],
          "name": "stdout"
        }
      ]
    },
    {
      "cell_type": "code",
      "metadata": {
        "id": "Mq9H4vL3zw98",
        "colab_type": "code",
        "colab": {
          "base_uri": "https://localhost:8080/",
          "height": 34
        },
        "outputId": "2b710b02-3b90-4b31-9329-b4ce0cbf52fb"
      },
      "source": [
        "# 짝수만 가져오려면?\n",
        "print(z[1::2])"
      ],
      "execution_count": 30,
      "outputs": [
        {
          "output_type": "stream",
          "text": [
            "[2, 4, 6, 8]\n"
          ],
          "name": "stdout"
        }
      ]
    },
    {
      "cell_type": "code",
      "metadata": {
        "id": "BvMiSC-pz2GG",
        "colab_type": "code",
        "colab": {
          "base_uri": "https://localhost:8080/",
          "height": 34
        },
        "outputId": "c3cadf8e-eb2c-4dff-95f7-1d5b44fef00d"
      },
      "source": [
        "# 2개씩 건너띄기\n",
        "print(z[::3])"
      ],
      "execution_count": 31,
      "outputs": [
        {
          "output_type": "stream",
          "text": [
            "[1, 4, 7]\n"
          ],
          "name": "stdout"
        }
      ]
    },
    {
      "cell_type": "code",
      "metadata": {
        "id": "7oYR33Hw0iv8",
        "colab_type": "code",
        "colab": {
          "base_uri": "https://localhost:8080/",
          "height": 34
        },
        "outputId": "e3661446-8dec-47b0-a208-92ce57978b50"
      },
      "source": [
        "# 인덱스 1번부터 3번까지 한 개씩 건너띄기\n",
        "print(z[1:4:2])"
      ],
      "execution_count": 33,
      "outputs": [
        {
          "output_type": "stream",
          "text": [
            "[2, 4]\n"
          ],
          "name": "stdout"
        }
      ]
    },
    {
      "cell_type": "markdown",
      "metadata": {
        "id": "X14m-esINwOX",
        "colab_type": "text"
      },
      "source": [
        "## 2-4.리스트 연산\n"
      ]
    },
    {
      "cell_type": "markdown",
      "metadata": {
        "id": "9ckHCAHeSgXV",
        "colab_type": "text"
      },
      "source": [
        "### 리스트 더하기\n",
        "'+' 연산자 사용"
      ]
    },
    {
      "cell_type": "code",
      "metadata": {
        "id": "el2_Kv8zSNvK",
        "colab_type": "code",
        "colab": {}
      },
      "source": [
        "a= ['철수', '영희']\n",
        "b= ['민수', '영수']"
      ],
      "execution_count": 0,
      "outputs": []
    },
    {
      "cell_type": "code",
      "metadata": {
        "id": "yM-awlS8kR0U",
        "colab_type": "code",
        "colab": {
          "base_uri": "https://localhost:8080/",
          "height": 34
        },
        "outputId": "c4bc2789-1691-4066-d6f2-12915e731cbc"
      },
      "source": [
        "# 리스트 a와 리스트 b를 더해서 리스트 c 만들기\n",
        "c = a + b\n",
        "print(c)"
      ],
      "execution_count": 36,
      "outputs": [
        {
          "output_type": "stream",
          "text": [
            "['철수', '영희', '민수', '영수']\n"
          ],
          "name": "stdout"
        }
      ]
    },
    {
      "cell_type": "markdown",
      "metadata": {
        "id": "dynxiMB6SsA5",
        "colab_type": "text"
      },
      "source": [
        "### 리스트 반복하기\n",
        "'*' 연산자 사용"
      ]
    },
    {
      "cell_type": "code",
      "metadata": {
        "id": "DxGJJJU1S4hc",
        "colab_type": "code",
        "outputId": "1ccb31c5-13ad-4123-e8e3-539d74d6e969",
        "colab": {
          "base_uri": "https://localhost:8080/",
          "height": 34
        }
      },
      "source": [
        "# 리스트 a의 값 3번 반복\n",
        "print(a*3)"
      ],
      "execution_count": 37,
      "outputs": [
        {
          "output_type": "stream",
          "text": [
            "['철수', '영희', '철수', '영희', '철수', '영희']\n"
          ],
          "name": "stdout"
        }
      ]
    },
    {
      "cell_type": "markdown",
      "metadata": {
        "id": "81u5VbxzS7UT",
        "colab_type": "text"
      },
      "source": [
        "### 리스트 길이 구하기(len() 함수)\n",
        "<pre>\n",
        "사용법:\n",
        "len(리스트명)"
      ]
    },
    {
      "cell_type": "code",
      "metadata": {
        "id": "dtK247SoTEkH",
        "colab_type": "code",
        "outputId": "b20a9b3c-428e-40ed-bb08-fc34ead11c2e",
        "colab": {
          "base_uri": "https://localhost:8080/",
          "height": 34
        }
      },
      "source": [
        "# 리스트 a의 길이\n",
        "print(len(a))"
      ],
      "execution_count": 38,
      "outputs": [
        {
          "output_type": "stream",
          "text": [
            "2\n"
          ],
          "name": "stdout"
        }
      ]
    },
    {
      "cell_type": "markdown",
      "metadata": {
        "id": "acZ3MOdwTGjK",
        "colab_type": "text"
      },
      "source": [
        "## 2-5.리스트 수정하기\n"
      ]
    },
    {
      "cell_type": "markdown",
      "metadata": {
        "id": "vEaeDI2aThLk",
        "colab_type": "text"
      },
      "source": [
        "### 리스트에 값 추가하기(append 함수)\n",
        "<pre>\n",
        "* 사용법:\n",
        "  리스트명.append(값)\n",
        "  \n",
        "* 결과:\n",
        "  값이 마지막 인덱스로 들어감."
      ]
    },
    {
      "cell_type": "code",
      "metadata": {
        "id": "Sehdzi7CWiml",
        "colab_type": "code",
        "colab": {}
      },
      "source": [
        "a = ['철수', '영희', '민지']"
      ],
      "execution_count": 0,
      "outputs": []
    },
    {
      "cell_type": "code",
      "metadata": {
        "id": "ASH7353ZldNd",
        "colab_type": "code",
        "colab": {}
      },
      "source": [
        "# '남준' 추가\n",
        "a.append('남준')"
      ],
      "execution_count": 0,
      "outputs": []
    },
    {
      "cell_type": "code",
      "metadata": {
        "id": "IEuhZfpDWshT",
        "colab_type": "code",
        "colab": {
          "base_uri": "https://localhost:8080/",
          "height": 34
        },
        "outputId": "5c8f42e4-7538-4926-ddf3-65f2cdf406d1"
      },
      "source": [
        "print(a)"
      ],
      "execution_count": 48,
      "outputs": [
        {
          "output_type": "stream",
          "text": [
            "['철수', '영희', '민지', '남준']\n"
          ],
          "name": "stdout"
        }
      ]
    },
    {
      "cell_type": "code",
      "metadata": {
        "id": "DS3rFaX1W_xG",
        "colab_type": "code",
        "colab": {}
      },
      "source": [
        "# 리스트를 넣는 경우\n",
        "b= ['경수', '희철']\n",
        "a.append(b)"
      ],
      "execution_count": 0,
      "outputs": []
    },
    {
      "cell_type": "code",
      "metadata": {
        "id": "cLBH8c_IXFtj",
        "colab_type": "code",
        "colab": {
          "base_uri": "https://localhost:8080/",
          "height": 34
        },
        "outputId": "39d95fd0-b012-415e-c7bd-8eb7536ef0b9"
      },
      "source": [
        "print(a)"
      ],
      "execution_count": 50,
      "outputs": [
        {
          "output_type": "stream",
          "text": [
            "['철수', '영희', '민지', '남준', ['경수', '희철']]\n"
          ],
          "name": "stdout"
        }
      ]
    },
    {
      "cell_type": "markdown",
      "metadata": {
        "id": "hrWm9rLNXOkF",
        "colab_type": "text"
      },
      "source": [
        "### 리스트에 여러 값들만 추가(extend 함수)\n",
        "<pre>\n",
        "* 사용법\n",
        "리스트명.extend(다른 리스트)"
      ]
    },
    {
      "cell_type": "code",
      "metadata": {
        "id": "ko1nMeO-XWP4",
        "colab_type": "code",
        "colab": {}
      },
      "source": [
        "b = ['경수', '희철']\n",
        "c = ['대희', '수민']"
      ],
      "execution_count": 0,
      "outputs": []
    },
    {
      "cell_type": "code",
      "metadata": {
        "id": "V1m8XpOzmLWF",
        "colab_type": "code",
        "colab": {}
      },
      "source": [
        "# 리스트 b에 리스트 c의 값들만 추가\n",
        "b.extend(c)"
      ],
      "execution_count": 0,
      "outputs": []
    },
    {
      "cell_type": "code",
      "metadata": {
        "id": "SkuQI8PRX263",
        "colab_type": "code",
        "colab": {
          "base_uri": "https://localhost:8080/",
          "height": 34
        },
        "outputId": "2222d7af-3d6b-4f97-c4f2-50f99341ff9c"
      },
      "source": [
        "print(b)"
      ],
      "execution_count": 59,
      "outputs": [
        {
          "output_type": "stream",
          "text": [
            "['경수', '희철', '대희', '수민']\n"
          ],
          "name": "stdout"
        }
      ]
    },
    {
      "cell_type": "markdown",
      "metadata": {
        "id": "6oO8coyxX4b4",
        "colab_type": "text"
      },
      "source": [
        "### 원하는 인덱스(순번)에 값 넣기(insert 함수)\n",
        "<pre>\n",
        "사용법:\n",
        "리스트명.insert(원하는 인덱스, 값)"
      ]
    },
    {
      "cell_type": "code",
      "metadata": {
        "id": "R-xEU3j_YYE9",
        "colab_type": "code",
        "colab": {}
      },
      "source": [
        "z=[1, 2, 3, 4]"
      ],
      "execution_count": 0,
      "outputs": []
    },
    {
      "cell_type": "code",
      "metadata": {
        "id": "fg0k2OPOmyQB",
        "colab_type": "code",
        "colab": {}
      },
      "source": [
        "# 2번째 인덱스에 7넣기\n",
        "z.insert(2,7)"
      ],
      "execution_count": 0,
      "outputs": []
    },
    {
      "cell_type": "code",
      "metadata": {
        "id": "-SANKNu7Yair",
        "colab_type": "code",
        "colab": {
          "base_uri": "https://localhost:8080/",
          "height": 34
        },
        "outputId": "f825dc03-ef27-46fb-fd58-801af3ac5b78"
      },
      "source": [
        "print(z)"
      ],
      "execution_count": 71,
      "outputs": [
        {
          "output_type": "stream",
          "text": [
            "[1, 2, 7, 3, 4]\n"
          ],
          "name": "stdout"
        }
      ]
    },
    {
      "cell_type": "markdown",
      "metadata": {
        "id": "se3wZBwLYbwP",
        "colab_type": "text"
      },
      "source": [
        "### 리스트 값 제거(remove 함수)\n",
        "<pre>\n",
        "* 사용법:\n",
        "  리스트명.remove(값)\n",
        "\n",
        "* 결과:\n",
        "  선행 인덱스의 값을 제거"
      ]
    },
    {
      "cell_type": "code",
      "metadata": {
        "id": "cdtmWL5TY0AW",
        "colab_type": "code",
        "colab": {}
      },
      "source": [
        "q = [1,2,3,3]"
      ],
      "execution_count": 0,
      "outputs": []
    },
    {
      "cell_type": "code",
      "metadata": {
        "id": "gRrQwaDLnTd3",
        "colab_type": "code",
        "colab": {}
      },
      "source": [
        "# 3을 제거\n",
        "q.remove(3)"
      ],
      "execution_count": 0,
      "outputs": []
    },
    {
      "cell_type": "code",
      "metadata": {
        "id": "8UR-kqSyY_nr",
        "colab_type": "code",
        "colab": {
          "base_uri": "https://localhost:8080/",
          "height": 34
        },
        "outputId": "e0b4296b-7b63-410b-e2cf-5ec1f65921d6"
      },
      "source": [
        "print(q)"
      ],
      "execution_count": 88,
      "outputs": [
        {
          "output_type": "stream",
          "text": [
            "[1, 2, 3]\n"
          ],
          "name": "stdout"
        }
      ]
    },
    {
      "cell_type": "markdown",
      "metadata": {
        "id": "QEOaQQ19dUnb",
        "colab_type": "text"
      },
      "source": [
        "###인덱스로 지우기\n",
        "\n",
        "*   del 리스트명.[인덱스]\n",
        "*   리스트명.pop[인덱스]"
      ]
    },
    {
      "cell_type": "code",
      "metadata": {
        "id": "gPCf66dJeEXj",
        "colab_type": "code",
        "colab": {
          "base_uri": "https://localhost:8080/",
          "height": 34
        },
        "outputId": "623e5914-04cf-4659-bc59-c7dcf6154727"
      },
      "source": [
        "q = [1,2,3,4,5]\n",
        "del q[2]\n",
        "print(q)"
      ],
      "execution_count": 91,
      "outputs": [
        {
          "output_type": "stream",
          "text": [
            "[1, 2, 4, 5]\n"
          ],
          "name": "stdout"
        }
      ]
    },
    {
      "cell_type": "markdown",
      "metadata": {
        "id": "1TZC7FXoZAcT",
        "colab_type": "text"
      },
      "source": [
        "### 리스트 값 바꾸기\n",
        "<pre>\n",
        "* 사용법:.\n",
        "리스트명[인덱스] = 바꾸고자 하는 값"
      ]
    },
    {
      "cell_type": "code",
      "metadata": {
        "id": "SObM-ltpZa8j",
        "colab_type": "code",
        "colab": {}
      },
      "source": [
        "a=['철수', '영희', '남희']"
      ],
      "execution_count": 0,
      "outputs": []
    },
    {
      "cell_type": "code",
      "metadata": {
        "id": "S-d3D_85njDN",
        "colab_type": "code",
        "colab": {}
      },
      "source": [
        "# 0번 인덱스 값 '민수'로 바꾸기\n",
        "a[0] = '민수'"
      ],
      "execution_count": 0,
      "outputs": []
    },
    {
      "cell_type": "code",
      "metadata": {
        "id": "6v1NqgVeZk-z",
        "colab_type": "code",
        "colab": {
          "base_uri": "https://localhost:8080/",
          "height": 34
        },
        "outputId": "25edcdb1-e8f7-4f6d-fdd8-9cae0253756d"
      },
      "source": [
        "print(a)"
      ],
      "execution_count": 77,
      "outputs": [
        {
          "output_type": "stream",
          "text": [
            "['민수', '영희', '남희']\n"
          ],
          "name": "stdout"
        }
      ]
    },
    {
      "cell_type": "markdown",
      "metadata": {
        "id": "1dEkwxqkZrzv",
        "colab_type": "text"
      },
      "source": [
        "### 리스트 값의 인덱스(순번) 찾기(index 함수)\n",
        "<pre>\n",
        "* 사용법:\n",
        "리스트명.index(값)"
      ]
    },
    {
      "cell_type": "code",
      "metadata": {
        "id": "RIO8exdcaI_o",
        "colab_type": "code",
        "colab": {}
      },
      "source": [
        "a=['철수', '영희', '남희']"
      ],
      "execution_count": 0,
      "outputs": []
    },
    {
      "cell_type": "code",
      "metadata": {
        "id": "-he_5b8qoGXf",
        "colab_type": "code",
        "colab": {
          "base_uri": "https://localhost:8080/",
          "height": 34
        },
        "outputId": "1cb78eef-6b08-4249-b94b-81ded4a81b72"
      },
      "source": [
        "# '영희'의 인덱스 찾기\n",
        "a.index('영희')"
      ],
      "execution_count": 79,
      "outputs": [
        {
          "output_type": "execute_result",
          "data": {
            "text/plain": [
              "1"
            ]
          },
          "metadata": {
            "tags": []
          },
          "execution_count": 79
        }
      ]
    },
    {
      "cell_type": "markdown",
      "metadata": {
        "id": "5lwUkJhlaL3a",
        "colab_type": "text"
      },
      "source": [
        "### 특정 값의 개수 세기(count 함수)\n",
        "<pre>\n",
        "* 사용법:\n",
        "리스트명.count(값)"
      ]
    },
    {
      "cell_type": "code",
      "metadata": {
        "id": "NWNgcDorafcB",
        "colab_type": "code",
        "colab": {}
      },
      "source": [
        "a=[1,3,3,7,9]"
      ],
      "execution_count": 0,
      "outputs": []
    },
    {
      "cell_type": "code",
      "metadata": {
        "id": "UQENLJRCog_s",
        "colab_type": "code",
        "colab": {
          "base_uri": "https://localhost:8080/",
          "height": 87
        },
        "outputId": "659b551b-4452-45d5-933b-689182f0aef0"
      },
      "source": [
        "print(a.count(1))\n",
        "print(a.count(3))\n",
        "print(a.count(7))\n",
        "print(a.count(9))"
      ],
      "execution_count": 83,
      "outputs": [
        {
          "output_type": "stream",
          "text": [
            "1\n",
            "2\n",
            "1\n",
            "1\n"
          ],
          "name": "stdout"
        }
      ]
    }
  ]
}